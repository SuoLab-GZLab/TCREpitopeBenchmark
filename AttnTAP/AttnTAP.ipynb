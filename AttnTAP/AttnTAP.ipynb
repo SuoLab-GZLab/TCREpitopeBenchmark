{
 "cells": [
  {
   "cell_type": "markdown",
   "id": "9cfd46a7",
   "metadata": {},
   "source": [
    "# 1.Original model prediction"
   ]
  },
  {
   "cell_type": "code",
   "execution_count": 3,
   "id": "50a463dd",
   "metadata": {},
   "outputs": [],
   "source": [
    "import os\n",
    "import sys\n",
    "code_dir = os.path.join(os.getcwd(), 'Codes') \n",
    "sys.path.append(code_dir)  \n",
    "from AttnTAP_data_clean import *\n",
    "from AttnTAP_train  import *\n",
    "from AttnTAP_test  import *\n",
    "\n",
    "def Original_model_prediction(testfile_path,modelfile_path,result_path):\n",
    "    import pandas as pd\n",
    "    from sklearn.metrics import accuracy_score, roc_auc_score, recall_score, f1_score, matthews_corrcoef, precision_score,auc\n",
    "    test_model(testfile_path=\"../data/test.csv\",\n",
    "        file_path=testfile_path,\n",
    "        load_model_file=modelfile_path,\n",
    "        plot_roc_curve=\"plot_roc_curve\",\n",
    "        output_file=result_path+'probability.csv')\n",
    "    \n",
    "    "
   ]
  },
  {
   "cell_type": "code",
   "execution_count": null,
   "id": "30ca84de",
   "metadata": {},
   "outputs": [],
   "source": [
    "testfile_path=\"../data/test.csv\"\n",
    "modelfile_path=\"../Original_model/AttnTAP_mc.pt\"\n",
    "result_path=\"../result_path/Original_model_prediction\"\n",
    "Original_model_prediction(testfile_path,modelfile_path,result_path)"
   ]
  },
  {
   "cell_type": "code",
   "execution_count": null,
   "id": "75db0c92",
   "metadata": {},
   "outputs": [],
   "source": [
    "testfile_path=\"../data/test.csv\"\n",
    "modelfile_path=\"../Original_model/AttnTAP_vdj.pt\"\n",
    "result_path=\"../result_path/Original_model_prediction\"\n",
    "Original_model_prediction(testfile_path,modelfile_path,result_path)"
   ]
  },
  {
   "cell_type": "code",
   "execution_count": null,
   "id": "ac191659",
   "metadata": {},
   "outputs": [],
   "source": []
  },
  {
   "cell_type": "code",
   "execution_count": null,
   "id": "55774a6b",
   "metadata": {},
   "outputs": [],
   "source": []
  },
  {
   "cell_type": "markdown",
   "id": "f9f434c2",
   "metadata": {},
   "source": [
    "# 2.Model retraining"
   ]
  },
  {
   "cell_type": "code",
   "execution_count": 4,
   "id": "84f09a52",
   "metadata": {},
   "outputs": [],
   "source": [
    "import os\n",
    "import sys\n",
    "code_dir = os.path.join(os.getcwd(), 'Codes') \n",
    "sys.path.append(code_dir) \n",
    "from AttnTAP_data_clean import *\n",
    "from AttnTAP_train  import *\n",
    "from AttnTAP_test  import *\n",
    "def Model_retraining(trainfile_path,testfile_path,save_model_path,result_path):\n",
    "    import pandas as pd\n",
    "    from sklearn.metrics import accuracy_score, roc_auc_score, recall_score, f1_score, matthews_corrcoef, precision_score,auc\n",
    "    train_model(file_path=trainfile_path,\n",
    "            save_model_file=save_model_path,\n",
    "            epoch=15,\n",
    "            valid_set=False,\n",
    "            plot_train_curve=\"plot_roc_curve\",\n",
    "            learning_rate=0.005,\n",
    "            embedding_dim=10,\n",
    "            dropout_rate=0.1,\n",
    "            hidden_dim=50,\n",
    "            plot_roc_curve=\"plot_roc_curve\"\n",
    "            )\n",
    "\n",
    "    test_model(\n",
    "        file_path=testfile_path,\n",
    "        load_model_file=save_model_path+'.pth',\n",
    "        plot_roc_curve=\"plot_roc_curve\",\n",
    "        output_file=result_path+'probability.csv')"
   ]
  },
  {
   "cell_type": "code",
   "execution_count": null,
   "id": "68fbba45",
   "metadata": {},
   "outputs": [],
   "source": [
    "trainfile_path =\"../data/train.csv\"\n",
    "testfile_path=\"../data/test.csv\"\n",
    "save_modle_path=\"../Retraining_model/Retraining_model.pth\"\n",
    "result_path=\"../result_path/Retraining_model_prediction\"\n",
    "Model_retraining(trainfile_path,testfile_path,save_modle_path,result_path) "
   ]
  },
  {
   "cell_type": "code",
   "execution_count": null,
   "id": "c9a3277e",
   "metadata": {},
   "outputs": [],
   "source": []
  },
  {
   "cell_type": "code",
   "execution_count": null,
   "id": "48dc0070",
   "metadata": {},
   "outputs": [],
   "source": []
  },
  {
   "cell_type": "code",
   "execution_count": null,
   "id": "a2721302",
   "metadata": {},
   "outputs": [],
   "source": []
  },
  {
   "cell_type": "markdown",
   "id": "46ece8a2",
   "metadata": {},
   "source": [
    "# 3.Retraining_model_prediction"
   ]
  },
  {
   "cell_type": "code",
   "execution_count": null,
   "id": "452f4c75",
   "metadata": {},
   "outputs": [],
   "source": [
    "def Retraining_model_prediction(testfile_path,modelfile_path,result_path):\n",
    "    import pandas as pd\n",
    "    from sklearn.metrics import accuracy_score, roc_auc_score, recall_score, f1_score, matthews_corrcoef, precision_score,auc\n",
    "    test_model(\n",
    "        file_path=testfile_path,\n",
    "        load_model_file=modelfile_path,\n",
    "        plot_roc_curve=\"plot_roc_curve\",\n",
    "        output_file=result_path+'probability.csv')"
   ]
  },
  {
   "cell_type": "code",
   "execution_count": null,
   "id": "2168ceea",
   "metadata": {},
   "outputs": [],
   "source": [
    "testfile_path=\"../data/Validation.csv\"\n",
    "modelfile_path=\"../Retraining_model/Retraining_model\"\n",
    "result_path=\"../result_path/Retraining_model_prediction\"\n",
    "Retraining_model_prediction(testfile_path,modelfile_path,result_path)\n"
   ]
  },
  {
   "cell_type": "code",
   "execution_count": null,
   "id": "84e700e3",
   "metadata": {},
   "outputs": [],
   "source": []
  }
 ],
 "metadata": {
  "kernelspec": {
   "display_name": "Python 3 (ipykernel)",
   "language": "python",
   "name": "python3"
  },
  "language_info": {
   "codemirror_mode": {
    "name": "ipython",
    "version": 3
   },
   "file_extension": ".py",
   "mimetype": "text/x-python",
   "name": "python",
   "nbconvert_exporter": "python",
   "pygments_lexer": "ipython3",
   "version": "3.8.13"
  }
 },
 "nbformat": 4,
 "nbformat_minor": 5
}
