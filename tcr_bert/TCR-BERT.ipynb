{
 "cells": [
  {
   "cell_type": "markdown",
   "id": "ff8b2741",
   "metadata": {},
   "source": [
    "# 1.Original model prediction"
   ]
  },
  {
   "cell_type": "code",
   "execution_count": 2,
   "id": "d30644b7",
   "metadata": {
    "scrolled": false
   },
   "outputs": [],
   "source": [
    "import os \n",
    "os.chdir(\"./tcr/\")\n",
    "import numpy as np\n",
    "import model_utils \n",
    "tcrbert_trb_cls = model_utils.load_classification_pipeline(\"wukevin/tcr-bert\", device=0)"
   ]
  },
  {
   "cell_type": "code",
   "execution_count": 3,
   "id": "96efff27",
   "metadata": {},
   "outputs": [],
   "source": [
    "import pandas as pd\n",
    "def Original_model_prediction(data_path,result_path):\n",
    "    data=pd.read_csv(data_path)\n",
    "    formatted_strings = [' '.join(list(s)) for s in (data['CDR3B'].tolist())]\n",
    "    pred = model_utils.reformat_classification_pipeline_preds(tcrbert_trb_cls(formatted_strings))\n",
    "    unique_epitopes = pd.unique(data['Epitope'])\n",
    "    df_filtered = pred[unique_epitopes]\n",
    "    result = pd.concat([data, df_filtered], axis=1)\n",
    "    result['y_prob'] = result.apply(lambda row: row[row['Epitope']] if row['Epitope'] in result.columns else None, axis=1)\n",
    "    result=result[['Epitope','CDR3B','antigen_species','Affinity','y_prob']]\n",
    "    result = result.rename(columns={'Affinity': 'y_true'})\n",
    "    result['y_pred'] = result['y_prob'].apply(lambda x: 1 if x >= 0.5 else 0)\n",
    "    result.to_csv(result_path+'probability.csv')"
   ]
  },
  {
   "cell_type": "code",
   "execution_count": null,
   "id": "179ca1a6",
   "metadata": {},
   "outputs": [],
   "source": [
    "testfile_path=\"../../data/test.csv\"\n",
    "result_path=\"../../result_path/Original_model_prediction\"\n",
    "Original_model_prediction(testfile_path,result_path)"
   ]
  },
  {
   "cell_type": "code",
   "execution_count": 17,
   "id": "f68de939",
   "metadata": {
    "collapsed": true
   },
   "outputs": [
    {
     "ename": "KeyError",
     "evalue": "\"['LLFNKVTLA', 'TPINLVRDL', 'IQYIDIGNY', 'YLDAYNMMI', 'KLSYGIATV', 'FLNGSCGSV', 'VTIAEILLI', 'HLVDFQVTI', 'TLVPQEHYV', 'KLWAQCVQL', 'SSNVANYQK', 'KLGGALQAK', 'VLFGLGFAI', 'GTHWFVTQR', 'ILHCANFNV', 'YLQPRTFLL', 'VLWAHGFEL', 'CINGVCWTV', 'NLNCCSVPV', 'FLPRVFSAV', 'QYIKWPWYI', 'FLNRFTTTL', 'YFPLQSYGF', 'IPSINVHHY', 'TTAATHREK', 'ILGLPTQTV', 'KAYNVTQAF', 'LPPAYTNSF', 'FIAGLIAIV', 'NQKLIANQF', 'CTELKLSDY', 'YIFFASFYY', 'KEIDRLNEV', 'TLDSKTQSL', 'YLNTLTLAV', 'KLNVGDYFV', 'FVDGVPFVV', 'TLIGDCATV', 'SPRWYFYYL', 'VLAWLYAAV', 'SEETGTLIV', 'GPGHKARVL', 'FPPTSFGPL', 'IVDTVSALV', 'LPAADLDDF', 'GTITSGWTF', 'LVLSVNPYV', 'RQLLFVVEV', 'NLNESLIDL', 'MPASWVMRI', 'IPIQASLPF', 'LLMPILTLT', 'SLVKPSFYV', 'ALSKGVHFV', 'VYGIRLEHF', 'TSNQVAVLY', 'IPRRNVATL', 'EEHVQIHTI', 'LLFGYPVYV', 'VVYRGTTTY', 'SFHSLHLLF', 'WICLLQFAY', 'LEPLVDLPI'] not in index\"",
     "output_type": "error",
     "traceback": [
      "\u001b[0;31m---------------------------------------------------------------------------\u001b[0m",
      "\u001b[0;31mKeyError\u001b[0m                                  Traceback (most recent call last)",
      "Cell \u001b[0;32mIn[17], line 3\u001b[0m\n\u001b[1;32m      1\u001b[0m testfile_path\u001b[38;5;241m=\u001b[39m\u001b[38;5;124m\"\u001b[39m\u001b[38;5;124m../../data/test.csv\u001b[39m\u001b[38;5;124m\"\u001b[39m\n\u001b[1;32m      2\u001b[0m result_path\u001b[38;5;241m=\u001b[39m\u001b[38;5;124m\"\u001b[39m\u001b[38;5;124m../../result_path/Original_model_prediction\u001b[39m\u001b[38;5;124m\"\u001b[39m\n\u001b[0;32m----> 3\u001b[0m \u001b[43mOriginal_model_prediction\u001b[49m\u001b[43m(\u001b[49m\u001b[43mtestfile_path\u001b[49m\u001b[43m,\u001b[49m\u001b[43mresult_path\u001b[49m\u001b[43m)\u001b[49m\n",
      "Cell \u001b[0;32mIn[16], line 7\u001b[0m, in \u001b[0;36mOriginal_model_prediction\u001b[0;34m(data_path, result_path)\u001b[0m\n\u001b[1;32m      5\u001b[0m pred \u001b[38;5;241m=\u001b[39m model_utils\u001b[38;5;241m.\u001b[39mreformat_classification_pipeline_preds(tcrbert_trb_cls(formatted_strings))\n\u001b[1;32m      6\u001b[0m unique_epitopes \u001b[38;5;241m=\u001b[39m pd\u001b[38;5;241m.\u001b[39munique(data[\u001b[38;5;124m'\u001b[39m\u001b[38;5;124mEpitope\u001b[39m\u001b[38;5;124m'\u001b[39m])\n\u001b[0;32m----> 7\u001b[0m df_filtered \u001b[38;5;241m=\u001b[39m \u001b[43mpred\u001b[49m\u001b[43m[\u001b[49m\u001b[43munique_epitopes\u001b[49m\u001b[43m]\u001b[49m\n\u001b[1;32m      8\u001b[0m result \u001b[38;5;241m=\u001b[39m pd\u001b[38;5;241m.\u001b[39mconcat([data, df_filtered], axis\u001b[38;5;241m=\u001b[39m\u001b[38;5;241m1\u001b[39m)\n\u001b[1;32m      9\u001b[0m result[\u001b[38;5;124m'\u001b[39m\u001b[38;5;124my_prob\u001b[39m\u001b[38;5;124m'\u001b[39m] \u001b[38;5;241m=\u001b[39m result\u001b[38;5;241m.\u001b[39mapply(\u001b[38;5;28;01mlambda\u001b[39;00m row: row[row[\u001b[38;5;124m'\u001b[39m\u001b[38;5;124mEpitope\u001b[39m\u001b[38;5;124m'\u001b[39m]] \u001b[38;5;28;01mif\u001b[39;00m row[\u001b[38;5;124m'\u001b[39m\u001b[38;5;124mEpitope\u001b[39m\u001b[38;5;124m'\u001b[39m] \u001b[38;5;129;01min\u001b[39;00m result\u001b[38;5;241m.\u001b[39mcolumns \u001b[38;5;28;01melse\u001b[39;00m \u001b[38;5;28;01mNone\u001b[39;00m, axis\u001b[38;5;241m=\u001b[39m\u001b[38;5;241m1\u001b[39m)\n",
      "File \u001b[0;32m~/miniconda3/envs/tcrbert/lib/python3.9/site-packages/pandas/core/frame.py:3030\u001b[0m, in \u001b[0;36mDataFrame.__getitem__\u001b[0;34m(self, key)\u001b[0m\n\u001b[1;32m   3028\u001b[0m     \u001b[38;5;28;01mif\u001b[39;00m is_iterator(key):\n\u001b[1;32m   3029\u001b[0m         key \u001b[38;5;241m=\u001b[39m \u001b[38;5;28mlist\u001b[39m(key)\n\u001b[0;32m-> 3030\u001b[0m     indexer \u001b[38;5;241m=\u001b[39m \u001b[38;5;28;43mself\u001b[39;49m\u001b[38;5;241;43m.\u001b[39;49m\u001b[43mloc\u001b[49m\u001b[38;5;241;43m.\u001b[39;49m\u001b[43m_get_listlike_indexer\u001b[49m\u001b[43m(\u001b[49m\u001b[43mkey\u001b[49m\u001b[43m,\u001b[49m\u001b[43m \u001b[49m\u001b[43maxis\u001b[49m\u001b[38;5;241;43m=\u001b[39;49m\u001b[38;5;241;43m1\u001b[39;49m\u001b[43m,\u001b[49m\u001b[43m \u001b[49m\u001b[43mraise_missing\u001b[49m\u001b[38;5;241;43m=\u001b[39;49m\u001b[38;5;28;43;01mTrue\u001b[39;49;00m\u001b[43m)\u001b[49m[\u001b[38;5;241m1\u001b[39m]\n\u001b[1;32m   3032\u001b[0m \u001b[38;5;66;03m# take() does not accept boolean indexers\u001b[39;00m\n\u001b[1;32m   3033\u001b[0m \u001b[38;5;28;01mif\u001b[39;00m \u001b[38;5;28mgetattr\u001b[39m(indexer, \u001b[38;5;124m\"\u001b[39m\u001b[38;5;124mdtype\u001b[39m\u001b[38;5;124m\"\u001b[39m, \u001b[38;5;28;01mNone\u001b[39;00m) \u001b[38;5;241m==\u001b[39m \u001b[38;5;28mbool\u001b[39m:\n",
      "File \u001b[0;32m~/miniconda3/envs/tcrbert/lib/python3.9/site-packages/pandas/core/indexing.py:1266\u001b[0m, in \u001b[0;36m_LocIndexer._get_listlike_indexer\u001b[0;34m(self, key, axis, raise_missing)\u001b[0m\n\u001b[1;32m   1263\u001b[0m \u001b[38;5;28;01melse\u001b[39;00m:\n\u001b[1;32m   1264\u001b[0m     keyarr, indexer, new_indexer \u001b[38;5;241m=\u001b[39m ax\u001b[38;5;241m.\u001b[39m_reindex_non_unique(keyarr)\n\u001b[0;32m-> 1266\u001b[0m \u001b[38;5;28;43mself\u001b[39;49m\u001b[38;5;241;43m.\u001b[39;49m\u001b[43m_validate_read_indexer\u001b[49m\u001b[43m(\u001b[49m\u001b[43mkeyarr\u001b[49m\u001b[43m,\u001b[49m\u001b[43m \u001b[49m\u001b[43mindexer\u001b[49m\u001b[43m,\u001b[49m\u001b[43m \u001b[49m\u001b[43maxis\u001b[49m\u001b[43m,\u001b[49m\u001b[43m \u001b[49m\u001b[43mraise_missing\u001b[49m\u001b[38;5;241;43m=\u001b[39;49m\u001b[43mraise_missing\u001b[49m\u001b[43m)\u001b[49m\n\u001b[1;32m   1267\u001b[0m \u001b[38;5;28;01mreturn\u001b[39;00m keyarr, indexer\n",
      "File \u001b[0;32m~/miniconda3/envs/tcrbert/lib/python3.9/site-packages/pandas/core/indexing.py:1316\u001b[0m, in \u001b[0;36m_LocIndexer._validate_read_indexer\u001b[0;34m(self, key, indexer, axis, raise_missing)\u001b[0m\n\u001b[1;32m   1314\u001b[0m \u001b[38;5;28;01mif\u001b[39;00m raise_missing:\n\u001b[1;32m   1315\u001b[0m     not_found \u001b[38;5;241m=\u001b[39m \u001b[38;5;28mlist\u001b[39m(\u001b[38;5;28mset\u001b[39m(key) \u001b[38;5;241m-\u001b[39m \u001b[38;5;28mset\u001b[39m(ax))\n\u001b[0;32m-> 1316\u001b[0m     \u001b[38;5;28;01mraise\u001b[39;00m \u001b[38;5;167;01mKeyError\u001b[39;00m(\u001b[38;5;124mf\u001b[39m\u001b[38;5;124m\"\u001b[39m\u001b[38;5;132;01m{\u001b[39;00mnot_found\u001b[38;5;132;01m}\u001b[39;00m\u001b[38;5;124m not in index\u001b[39m\u001b[38;5;124m\"\u001b[39m)\n\u001b[1;32m   1318\u001b[0m not_found \u001b[38;5;241m=\u001b[39m key[missing_mask]\n\u001b[1;32m   1320\u001b[0m \u001b[38;5;28;01mwith\u001b[39;00m option_context(\u001b[38;5;124m\"\u001b[39m\u001b[38;5;124mdisplay.max_seq_items\u001b[39m\u001b[38;5;124m\"\u001b[39m, \u001b[38;5;241m10\u001b[39m, \u001b[38;5;124m\"\u001b[39m\u001b[38;5;124mdisplay.width\u001b[39m\u001b[38;5;124m\"\u001b[39m, \u001b[38;5;241m80\u001b[39m):\n",
      "\u001b[0;31mKeyError\u001b[0m: \"['LLFNKVTLA', 'TPINLVRDL', 'IQYIDIGNY', 'YLDAYNMMI', 'KLSYGIATV', 'FLNGSCGSV', 'VTIAEILLI', 'HLVDFQVTI', 'TLVPQEHYV', 'KLWAQCVQL', 'SSNVANYQK', 'KLGGALQAK', 'VLFGLGFAI', 'GTHWFVTQR', 'ILHCANFNV', 'YLQPRTFLL', 'VLWAHGFEL', 'CINGVCWTV', 'NLNCCSVPV', 'FLPRVFSAV', 'QYIKWPWYI', 'FLNRFTTTL', 'YFPLQSYGF', 'IPSINVHHY', 'TTAATHREK', 'ILGLPTQTV', 'KAYNVTQAF', 'LPPAYTNSF', 'FIAGLIAIV', 'NQKLIANQF', 'CTELKLSDY', 'YIFFASFYY', 'KEIDRLNEV', 'TLDSKTQSL', 'YLNTLTLAV', 'KLNVGDYFV', 'FVDGVPFVV', 'TLIGDCATV', 'SPRWYFYYL', 'VLAWLYAAV', 'SEETGTLIV', 'GPGHKARVL', 'FPPTSFGPL', 'IVDTVSALV', 'LPAADLDDF', 'GTITSGWTF', 'LVLSVNPYV', 'RQLLFVVEV', 'NLNESLIDL', 'MPASWVMRI', 'IPIQASLPF', 'LLMPILTLT', 'SLVKPSFYV', 'ALSKGVHFV', 'VYGIRLEHF', 'TSNQVAVLY', 'IPRRNVATL', 'EEHVQIHTI', 'LLFGYPVYV', 'VVYRGTTTY', 'SFHSLHLLF', 'WICLLQFAY', 'LEPLVDLPI'] not in index\""
     ]
    }
   ],
   "source": [
    "testfile_path=\"../../data/test.csv\"\n",
    "result_path=\"../../result_path/Original_model_prediction\"\n",
    "Original_model_prediction(testfile_path,result_path)"
   ]
  },
  {
   "cell_type": "code",
   "execution_count": null,
   "id": "650150a0",
   "metadata": {},
   "outputs": [],
   "source": []
  },
  {
   "cell_type": "code",
   "execution_count": null,
   "id": "1c75aa6e",
   "metadata": {},
   "outputs": [],
   "source": []
  },
  {
   "cell_type": "markdown",
   "id": "714df908",
   "metadata": {},
   "source": [
    "# 2.Model retraining"
   ]
  },
  {
   "cell_type": "code",
   "execution_count": 4,
   "id": "56f17aee",
   "metadata": {},
   "outputs": [],
   "source": [
    "import warnings\n",
    "warnings.filterwarnings('ignore')"
   ]
  },
  {
   "cell_type": "code",
   "execution_count": 5,
   "id": "d087759f",
   "metadata": {},
   "outputs": [],
   "source": [
    "import os\n",
    "import sys\n",
    "import logging\n",
    "import argparse\n",
    "import json\n",
    "from joblib import dump\n",
    "from typing import *\n",
    "import numpy as np\n",
    "import pandas as pd\n",
    "import sklearn\n",
    "from sklearn.svm import SVC\n",
    "from sklearn.linear_model import LogisticRegression\n",
    "from sklearn.gaussian_process import GaussianProcessClassifier\n",
    "from sklearn.base import BaseEstimator\n",
    "from sklearn import metrics\n",
    "import git \n",
    "\n",
    "import sys\n",
    "sys.path.append(\"./tcr/\")\n",
    "import featurization as ft\n",
    "import data_loader as dl\n",
    "import model_utils\n",
    "import canonical_models as models\n",
    "logging.basicConfig(level=logging.INFO)\n",
    "\n",
    "\n",
    "def get_model(keyword: str, n_components: int) -> BaseEstimator:\n",
    "    \"\"\"\n",
    "    Return a sklearn type model given a keyword\n",
    "    \"\"\"\n",
    "    if keyword == \"pcasvm\":\n",
    "        cls = models.ModelOnPCA(\n",
    "            SVC, n_components=n_components, probability=True, kernel=\"rbf\"\n",
    "        )\n",
    "    elif keyword == \"svm\":\n",
    "        cls = SVC(probability=True, kernel=\"rbf\", random_state=6489)\n",
    "    elif keyword == \"lr\":\n",
    "        cls = LogisticRegression(penalty=\"l2\", solver=\"liblinear\")\n",
    "    elif keyword == \"gpc\":\n",
    "        cls = GaussianProcessClassifier()\n",
    "    else:\n",
    "        raise ValueError(f\"Unrecognized classifier: {keyword}\")\n",
    "    logging.info(f\"Classifier {cls}\")\n",
    "    return cls\n",
    "\n",
    "\n",
    "        \n",
    "def Model_retraining(trainfile_path,testfile_path,save_model_path,result_path):\n",
    "    import torch\n",
    "    import pandas as pd\n",
    "    import numpy as np\n",
    "    from sklearn.metrics import accuracy_score, roc_auc_score, recall_score, f1_score, matthews_corrcoef, precision_score,auc,roc_curve\n",
    "    device = torch.device('cuda:0' if torch.cuda.is_available() else 'cpu')\n",
    "    train = pd.read_csv(trainfile_path)\n",
    "    test = pd.read_csv(testfile_path)\n",
    "    epitope = pd.unique(train['Epitope'])\n",
    "    results_list = []\n",
    "    probab_list=[]\n",
    "    for i in epitope:\n",
    "        df_train = train[train['Epitope'] == i].sample(frac=1, random_state=42)  # Filter the dataframe for current epitope\n",
    "        train_seqs = df_train['CDR3B'].tolist()\n",
    "        train_labels = df_train['Affinity'].tolist()\n",
    "       \n",
    "        df_test = test[test['Epitope'] == i].sample(frac=1, random_state=42)  # Filter the dataframe for current epitope\n",
    "        test_seqs= df_test['CDR3B'].tolist()\n",
    "        test_labels = df_test['Affinity'].tolist()\n",
    "        transformer=\"wukevin/tcr-bert\"\n",
    "        layer=-1\n",
    "        train_embed = model_utils.get_transformer_embeddings(\n",
    "                model_dir=transformer,\n",
    "                seqs=train_seqs,\n",
    "                layers=[layer],\n",
    "                method=\"mean\",\n",
    "                device=device,\n",
    "            )\n",
    "        test_embed = model_utils.get_transformer_embeddings(\n",
    "                model_dir=transformer,\n",
    "                seqs=test_seqs,\n",
    "                layers=[layer],\n",
    "                method=\"mean\",\n",
    "                device=device,\n",
    "            )\n",
    "        numpcs=50\n",
    "        classifier=\"svm\"\n",
    "        cls = get_model(classifier, numpcs)\n",
    "        cls.fit(train_embed, train_labels)\n",
    "        model_path = save_model_path + '_' + i + '_model.pt'\n",
    "        torch.save(cls, model_path)\n",
    "\n",
    "        test_preds = cls.predict_proba(test_embed)[:, 1]\n",
    "        y_pred = test_preds.round()\n",
    "        test_labels = np.array(test_labels)\n",
    "        probab= { 'Epitope': [i] * len(df_test['CDR3B']),'CDR3B': df_test['CDR3B'],'y_true': test_labels, 'y_pred': y_pred,'y_prob': test_preds}\n",
    "        probab_list.append(probab)   \n",
    "        probability = pd.DataFrame(probab_list)\n",
    "        probability = pd.DataFrame(probability)\n",
    "        probability = probability.apply(pd.Series.explode)\n",
    "        probability.to_csv(result_path+'probability.csv')\n",
    "\n",
    "        "
   ]
  },
  {
   "cell_type": "code",
   "execution_count": null,
   "id": "1d890cde",
   "metadata": {},
   "outputs": [],
   "source": [
    "trainfile_path =\"../../data/train.csv\"\n",
    "testfile_path=\"../../data/test.csv\"\n",
    "save_modle_path=\"../../Retraining_model/Retraining_model\"\n",
    "result_path=\"../../result_path/Retraining_model_prediction\"\n",
    "Model_retraining(trainfile_path,testfile_path,save_modle_path,result_path) "
   ]
  },
  {
   "cell_type": "code",
   "execution_count": null,
   "id": "0fc300fc",
   "metadata": {},
   "outputs": [],
   "source": []
  },
  {
   "cell_type": "markdown",
   "id": "914fa4ee",
   "metadata": {},
   "source": [
    "# 3.Retraining_model_prediction"
   ]
  },
  {
   "cell_type": "code",
   "execution_count": 7,
   "id": "0198c965",
   "metadata": {},
   "outputs": [],
   "source": [
    "import os\n",
    "import torch\n",
    "import pandas as pd\n",
    "import numpy as np\n",
    "from sklearn.metrics import accuracy_score, roc_auc_score, recall_score, f1_score, matthews_corrcoef, precision_score, auc, roc_curve\n",
    "\n",
    "def load_model(model_path):\n",
    "    \"\"\"\n",
    "    Load a pre-trained model from the specified path.\n",
    "    \"\"\"\n",
    "    return torch.load(model_path)\n",
    "\n",
    "def validation_main(testfile_path, modelfile_path, result_path):\n",
    "    device = torch.device('cuda:0' if torch.cuda.is_available() else 'cpu')\n",
    "    test = pd.read_csv(testfile_path)\n",
    "    epitope = pd.unique(test['Epitope'])\n",
    "    results_list = []\n",
    "    probab_list = []\n",
    "    for i in epitope:\n",
    "        model_path = modelfile_path + '_' + i + '_model.pt'\n",
    "        cls = load_model(model_path)\n",
    "        df_test = test[test['Epitope'] == i].sample(frac=1, random_state=42)\n",
    "        test_seqs = df_test['CDR3B'].tolist()\n",
    "        test_labels = df_test['Affinity'].tolist()\n",
    "        transformer = \"wukevin/tcr-bert\"\n",
    "        layer = -1\n",
    "        test_embed = model_utils.get_transformer_embeddings(\n",
    "            model_dir=transformer,\n",
    "            seqs=test_seqs,\n",
    "            layers=[layer],\n",
    "            method=\"mean\",\n",
    "            device=device,\n",
    "        )\n",
    "\n",
    "        test_preds = cls.predict_proba(test_embed)[:, 1]\n",
    "        y_pred = test_preds.round()\n",
    "        test_labels = np.array(test_labels)\n",
    "        probab = {\n",
    "            'Epitope': [i] * len(df_test['CDR3B']),\n",
    "            'CDR3B': df_test['CDR3B'],\n",
    "            'y_true': test_labels,\n",
    "            'y_pred': y_pred,\n",
    "            'y_prob': test_preds\n",
    "        }\n",
    "        probab_list.append(probab)\n",
    "    probability = pd.DataFrame(probab_list)\n",
    "    probability = pd.DataFrame(probability)\n",
    "    probability = probability.apply(pd.Series.explode)\n",
    "    probability.to_csv(result_path + 'probability.csv', index=False)"
   ]
  },
  {
   "cell_type": "code",
   "execution_count": null,
   "id": "33cb74b2",
   "metadata": {},
   "outputs": [],
   "source": [
    "testfile_path=\"../../data/Validation.csv\"\n",
    "modelfile_path=\"../../Retraining_model/Retraining_model\"\n",
    "result_path=\"../../result_path/Retraining_model_prediction\"\n",
    "Retraining_model_prediction(testfile_path,modelfile_path,result_path)"
   ]
  },
  {
   "cell_type": "code",
   "execution_count": null,
   "id": "8909ec9f",
   "metadata": {},
   "outputs": [],
   "source": []
  },
  {
   "cell_type": "code",
   "execution_count": null,
   "id": "0a9fb24a",
   "metadata": {},
   "outputs": [],
   "source": []
  },
  {
   "cell_type": "code",
   "execution_count": null,
   "id": "6d767fe2",
   "metadata": {},
   "outputs": [],
   "source": []
  }
 ],
 "metadata": {
  "kernelspec": {
   "display_name": "tcrbert",
   "language": "python",
   "name": "tcrbert"
  },
  "language_info": {
   "codemirror_mode": {
    "name": "ipython",
    "version": 3
   },
   "file_extension": ".py",
   "mimetype": "text/x-python",
   "name": "python",
   "nbconvert_exporter": "python",
   "pygments_lexer": "ipython3",
   "version": "3.9.2"
  }
 },
 "nbformat": 4,
 "nbformat_minor": 5
}
