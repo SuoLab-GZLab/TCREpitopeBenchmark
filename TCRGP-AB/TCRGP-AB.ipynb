{
 "cells": [
  {
   "cell_type": "markdown",
   "id": "aee20166",
   "metadata": {},
   "source": [
    "# 2.Model retraining"
   ]
  },
  {
   "cell_type": "code",
   "execution_count": null,
   "id": "4c80258b",
   "metadata": {},
   "outputs": [],
   "source": [
    "import tcrgp\n",
    "import pickle\n",
    "import ast\n",
    "import csv\n",
    "import numpy as np\n",
    "from matplotlib import pyplot as plt\n",
    "import pandas as pd\n",
    "plt.style.use('ggplot')"
   ]
  },
  {
   "cell_type": "markdown",
   "id": "f33c84a0",
   "metadata": {},
   "source": [
    "#When using this model for prediction or training, the dataset needs to be modified in the following way"
   ]
  },
  {
   "cell_type": "code",
   "execution_count": null,
   "id": "92616185",
   "metadata": {},
   "outputs": [],
   "source": [
    "def data_preprocessing(datafile,resultpath):                        \n",
    "    train=pd.read_csv(datafile, low_memory=False)\n",
    "    epitope = pd.unique(train['Epitope'])\n",
    "    for i in epitope:\n",
    "        df_train = train[train['Epitope'] == i].sample(frac=1, random_state=42)\n",
    "        df_train['TRBV']='NaN'\n",
    "        df_train['TRBJ']='NaN'\n",
    "        df_train=df_train[['Epitope','Affinity','TRBV','TRBJ','CDR3A','CDR3B']]\n",
    "        df_train = df_train.rename(columns={'Epitope': 'epitope','CDR3A':'cdr3a', 'CDR3B': 'cdr3b'})\n",
    "        df_train.loc[df_train['Affinity'] == 0, 'epitope'] = 'none'\n",
    "        df_train.to_csv(resultpath+i+\".csv\")\n",
    "        "
   ]
  },
  {
   "cell_type": "code",
   "execution_count": null,
   "id": "b50ce118",
   "metadata": {},
   "outputs": [],
   "source": [
    "datafile=\"../data/test_CDR3B_others.csv\"\n",
    "resultpath=\"../data/TCRGP_test_CDR3B_others\"\n",
    "data_preprocessing(datafile,resultpath)"
   ]
  },
  {
   "cell_type": "code",
   "execution_count": null,
   "id": "cb7fd48a",
   "metadata": {},
   "outputs": [],
   "source": [
    "datafile=\"../data/train_CDR3B_others.csv\"\n",
    "resultpath=\"../data/TCRGP_train_CDR3B_others\"\n",
    "data_preprocessing(datafile,resultpath)"
   ]
  },
  {
   "cell_type": "code",
   "execution_count": null,
   "id": "d849c56c",
   "metadata": {},
   "outputs": [],
   "source": [
    "import pandas as pd\n",
    "import pickle\n",
    "import tcrgp\n",
    "def Model_retraining(index_path,trainfile_path, testfile_path,save_model_path,result_path):\n",
    "    subsmat = tcrgp.subsmatFromAA2('HENS920102')\n",
    "    pc_blo = tcrgp.get_pcs(subsmat, d=21) \n",
    "    index = pd.read_csv(index_path)\n",
    "    epitope = pd.unique(index['Epitope'])\n",
    "    all_results = pd.DataFrame()   \n",
    "    for i in epitope:\n",
    "        auc, params = tcrgp.train_classifier(trainfile_path + i + '.csv', 'human', i, pc_blo,\n",
    "                                                  cdr_types=[[], ['cdr3']], m_iters=20, lr=0.005, nZ=0, mbs=0, lmax3=18,\n",
    "                                                  va=None, vb=None, cdr3a='cdr3a', cdr3b='cdr3b', epis='epitope')\n",
    "        with open(save_model_path + i, 'wb') as f:\n",
    "            pickle.dump(params, f)\n",
    "        preds = tcrgp.predict(testfile_path + i + '_test.csv', params,cdr3a='cdr3a',cdr3b='cdr3b')\n",
    "        data = pd.read_csv(testfile_path + i + '_test.csv')\n",
    "        probability = data[['epitope', 'cdr3b', 'Affinity']]\n",
    "        probability = probability.rename(columns={'Affinity': 'y_true'})\n",
    "        probability['y_prob'] = preds\n",
    "        probability['y_pred'] = probability['y_prob'].apply(lambda x: 1 if x >= 0.5 else 0)\n",
    "        probability['epitope'] = probability['epitope'].str.replace('none', i)\n",
    "        all_results = all_results.append(probability)\n",
    "    all_results.to_csv(result_path+'probability.csv', index=False)"
   ]
  },
  {
   "cell_type": "markdown",
   "id": "15ff8647",
   "metadata": {},
   "source": [
    "#index_path refers to the path of the original, unmodified training dataset, while trainfile_path refers to the path of the dataset modified according to this model"
   ]
  },
  {
   "cell_type": "code",
   "execution_count": null,
   "id": "bc365c29",
   "metadata": {},
   "outputs": [],
   "source": [
    "index_path=\"../data/train_CDR3B_others.csv\"\n",
    "trainfile_path =\"../data/TCRGP_train_CDR3B_others\"\n",
    "testfile_path=\"../data/TCRGP_test_CDR3B_others\"\n",
    "save_modle_path=\"../Retraining_model/Retraining_model\"\n",
    "result_path=\"../result_path/Retraining_model_prediction\"\n",
    "Model_retraining(index_path,trainfile_path,testfile_path,save_modle_path,result_path) "
   ]
  },
  {
   "cell_type": "markdown",
   "id": "c4faca87",
   "metadata": {},
   "source": [
    "# 3.Retraining_model_prediction"
   ]
  },
  {
   "cell_type": "code",
   "execution_count": null,
   "id": "ac25993a",
   "metadata": {},
   "outputs": [],
   "source": [
    "def Retraining_model_prediction(index_path,testfile_path,modelfile_path,result_path):\n",
    "    index = pd.read_csv(index_path)\n",
    "    epitope=pd.unique(index['Epitope'])\n",
    "    all_results = pd.DataFrame()   \n",
    "    for i in epitope:\n",
    "        with open(modelfile_path+i,'rb') as f:\n",
    "            params = pickle.load(f)\n",
    "        preds = tcrgp.predict(testfile_path+i+'.csv',params,cdr3a='cdr3a',cdr3b='cdr3b')\n",
    "        data = pd.read_csv(testfile_path+i+'.csv')\n",
    "        probability = data[['epitope', 'cdr3b', 'Affinity']]\n",
    "        probability = probability.rename(columns={'Affinity': 'y_true'})\n",
    "        probability['y_prob'] = preds\n",
    "        probability['y_pred'] = probability['y_prob'].apply(lambda x: 1 if x >= 0.5 else 0)\n",
    "        probability['Epitope'] = probability['epitope'].str.replace('none', i)\n",
    "        all_results = all_results.append(probability)\n",
    "    all_results.to_csv(result_path+'probability.csv', index=False)"
   ]
  },
  {
   "cell_type": "code",
   "execution_count": null,
   "id": "cca00dd1",
   "metadata": {},
   "outputs": [],
   "source": [
    "datafile=\"../data/validation_CDR3B_others.csv\"\n",
    "resultpath=\"../data/TCRGP_validation_CDR3B_others\"\n",
    "data_preprocessing(datafile,resultpath)"
   ]
  },
  {
   "cell_type": "code",
   "execution_count": null,
   "id": "08897f58",
   "metadata": {},
   "outputs": [],
   "source": [
    "index_path=\"../data/validation_CDR3B_others.csv\"\n",
    "testfile_path=\"../data/TCRGP_validation_CDR3B_others\"\n",
    "modelfile_path=\"../Retraining_model/Retraining_model\"\n",
    "result_path=\"../result_path/Retraining_model_prediction\"\n",
    "Retraining_model_prediction(index_path,testfile_path,modelfile_path,result_path)"
   ]
  },
  {
   "cell_type": "code",
   "execution_count": null,
   "id": "e8a7871b",
   "metadata": {},
   "outputs": [],
   "source": []
  },
  {
   "cell_type": "code",
   "execution_count": null,
   "id": "e68d937c",
   "metadata": {},
   "outputs": [],
   "source": []
  },
  {
   "cell_type": "code",
   "execution_count": null,
   "id": "91e2d43d",
   "metadata": {},
   "outputs": [],
   "source": []
  },
  {
   "cell_type": "code",
   "execution_count": null,
   "id": "ab380ea4",
   "metadata": {},
   "outputs": [],
   "source": []
  },
  {
   "cell_type": "code",
   "execution_count": null,
   "id": "1b8298bc",
   "metadata": {},
   "outputs": [],
   "source": []
  },
  {
   "cell_type": "code",
   "execution_count": null,
   "id": "016c3025",
   "metadata": {},
   "outputs": [],
   "source": []
  }
 ],
 "metadata": {
  "kernelspec": {
   "display_name": "TCRGP",
   "language": "python",
   "name": "tcrgp3.6"
  },
  "language_info": {
   "codemirror_mode": {
    "name": "ipython",
    "version": 3
   },
   "file_extension": ".py",
   "mimetype": "text/x-python",
   "name": "python",
   "nbconvert_exporter": "python",
   "pygments_lexer": "ipython3",
   "version": "3.6.15"
  }
 },
 "nbformat": 4,
 "nbformat_minor": 5
}
