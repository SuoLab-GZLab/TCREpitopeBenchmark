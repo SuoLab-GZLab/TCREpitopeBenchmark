{
 "cells": [
  {
   "cell_type": "code",
   "execution_count": null,
   "id": "4051ec28",
   "metadata": {},
   "outputs": [],
   "source": [
    "import numpy as np\n",
    "import sys\n",
    "import pickle\n",
    "import pandas as pd\n",
    "from imblearn.under_sampling import RandomUnderSampler\n",
    "from tqdm import tqdm\n",
    "from IPython.display import display\n",
    "from argparse import ArgumentParser\n",
    "import src.modules.processor_pred as Processor\n",
    "import src.modules.model as Model\n",
    "\n",
    "parser = ArgumentParser(description=\"Specifying Input Parameters\")\n",
    "parser.add_argument(\"-te\", \"--testfile_path\", help=\"Specify the full path of the file with TCR sequences\")\n",
    "parser.add_argument(\"-mf\", \"--modelfile_path\", help=\"Specify the full path of the file with trained model\")\n",
    "parser.add_argument(\"-c\", \"--chain\", default=\"ce\", help=\"Specify the chain (s) to use (ce, cem). Default: ce\")\n",
    "parser.add_argument(\"-o\", \"--result_path\", default=sys.stdout, help=\"Specify output file\")\n",
    "\n",
    "class Args:\n",
    "    def __init__(self, testfile_path, modelfile_path, chain,result_path):\n",
    "        self.testfile_path = testfile_path \n",
    "        self.modelfile_path = modelfile_path\n",
    "        self.chain = chain\n",
    "        self.result_path=result_path\n",
    "\n",
    "def Original_model_prediction(testfile_path,modelfile_path,result_path,chain):\n",
    "    import pandas as pd\n",
    "    from sklearn.metrics import accuracy_score, roc_auc_score, recall_score, f1_score, matthews_corrcoef, precision_score,auc,roc_curve\n",
    "    args = Args(testfile_path = testfile_path,modelfile_path=modelfile_path,chain = chain,result_path=result_path)\n",
    "    modelfile_path = args.modelfile_path\n",
    "    chain = args.chain\n",
    "    test = pd.read_csv(args.testfile_path)\n",
    "    test['CDR3B'] = test['CDR3B'].apply(lambda x: x[1:-1] if isinstance(x, str) else x)\n",
    "    test['CDR3A'] = test['CDR3A'].apply(lambda x: x[1:-1] if isinstance(x, str) else x)\n",
    "    test.drop(['MHC'], axis=1, inplace=True)\n",
    "    new_column_names = {'CDR3B': 'CDR3b',\n",
    "                     'CDR3A': 'CDR3a',\n",
    "                    'HLA_seq': 'MHC',\n",
    "                    'Epitope': 'epitope',\n",
    "                   'Affinity':'binder'}\n",
    "    test = test.rename(columns=new_column_names)\n",
    "    assert chain in [\"ce\",\"cem\"]\n",
    "    if chain not in [\"ce\",\"cem\"]:\n",
    "        print(\"Invalid chain. You can select ce (cdr3b+epitope), cem (cdr3b+epitope+mhc)\")\n",
    "    if chain=='ce':\n",
    "        pX_test, py_test = Processor.dataRepresentationBlosum62WithoutMHCb(test), test[[\"binder\"]]\n",
    "\n",
    "        model_rf = pickle.load(open(modelfile_path, 'rb'))\n",
    "        print('Evaluating..')\n",
    "        auc_test, acc_test, sens_test, spec_test = Model.predicMLModel(model_rf, test, pX_test, py_test, args.result_path)\n",
    "        print('Done!')\n",
    "\n",
    "    else:\n",
    "        pX_test_mhc, py_test_mhc = Processor.dataRepresentationBlosum62WithMHCb(test), test[[\"binder\"]]\n",
    "\n",
    "        model_rf_mhc = pickle.load(open(modelfile_path, 'rb'))\n",
    "        print('Evaluating..')\n",
    "        auc_test, acc_test, sens_test, spec_test = Model.predicMLModel(model_rf_mhc, test, pX_test_mhc, py_test_mhc, args.result_path)\n",
    "        print('Done!')   \n",
    "    result = pd.read_csv (result_path+'result.csv')\n",
    "    result = result.rename(columns={'binder': 'y_true', 'predict_proba': 'y_prob', 'binder_pred': 'y_pred'})\n",
    "    result.to_csv(result_path+'probability.csv')"
   ]
  },
  {
   "cell_type": "code",
   "execution_count": null,
   "id": "d3465bb6",
   "metadata": {},
   "outputs": [],
   "source": [
    "testfile_path=\"../data/test_CDR3B_others.csv\"\n",
    "modelfile_path=\"../Original_model/epiTCR_BH.pickle\"\n",
    "result_path=\"../result_path/Original_model_prediction\"\n",
    "chain='cem'\n",
    "Original_model_prediction(testfile_path,modelfile_path,result_path,chain)"
   ]
  }
 ],
 "metadata": {
  "kernelspec": {
   "display_name": "Python 3 (ipykernel)",
   "language": "python",
   "name": "python3"
  },
  "language_info": {
   "codemirror_mode": {
    "name": "ipython",
    "version": 3
   },
   "file_extension": ".py",
   "mimetype": "text/x-python",
   "name": "python",
   "nbconvert_exporter": "python",
   "pygments_lexer": "ipython3",
   "version": "3.8.13"
  }
 },
 "nbformat": 4,
 "nbformat_minor": 5
}
