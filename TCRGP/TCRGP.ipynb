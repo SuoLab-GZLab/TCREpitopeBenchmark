{
 "cells": [
  {
   "cell_type": "markdown",
   "id": "3e412974",
   "metadata": {},
   "source": [
    "# 1.Original model prediction"
   ]
  },
  {
   "cell_type": "code",
   "execution_count": 1,
   "id": "ed28503e",
   "metadata": {},
   "outputs": [],
   "source": [
    "import tcrgp\n",
    "import pickle\n",
    "import ast\n",
    "import csv\n",
    "import numpy as np\n",
    "from matplotlib import pyplot as plt\n",
    "import pandas as pd\n",
    "plt.style.use('ggplot')"
   ]
  },
  {
   "cell_type": "markdown",
   "id": "bb15dbc6",
   "metadata": {},
   "source": [
    "When using this model for prediction or training, \n",
    "the dataset needs to be modified in the following way"
   ]
  },
  {
   "cell_type": "code",
   "execution_count": 2,
   "id": "6b2a5b01",
   "metadata": {
    "scrolled": true
   },
   "outputs": [],
   "source": [
    "def fix(datafile,resultpath):\n",
    "    train=pd.read_csv(datafile)\n",
    "    train['TRBV']=''\n",
    "    train['TRBJ']=''\n",
    "    train['cdr3a']=''\n",
    "    epitope = pd.unique(train['Epitope'])\n",
    "    for i in epitope:\n",
    "        df_train = train[train['Epitope'] == i].sample(frac=1, random_state=42)\n",
    "        df_train['cdr3a']='NaN'\n",
    "        df_train=df_train[['Epitope','Affinity','TRBV','TRBJ','cdr3a','CDR3B']]\n",
    "        df_train = df_train.rename(columns={'Epitope': 'epitope', 'CDR3B': 'cdr3b'})\n",
    "        df_train.loc[df_train['Affinity'] == 0, 'epitope'] = 'none'\n",
    "        df_train.to_csv(resultpath+i+'.csv')\n",
    "        \n",
    "datafile=\"../data/test.csv\"\n",
    "resultpath=\"../data/TCRGP_test\"\n",
    "fix(datafile,resultpath)"
   ]
  },
  {
   "cell_type": "code",
   "execution_count": 5,
   "id": "2a511b8e",
   "metadata": {},
   "outputs": [],
   "source": [
    "def Original_model_prediction(index_path,testfile_path,modelfile_path,result_path):\n",
    "    index = pd.read_csv(index_path)\n",
    "    epitope=pd.unique(index['Epitope'])\n",
    "    all_results = pd.DataFrame()   \n",
    "    for i in epitope:\n",
    "        with open(modelfile_path+i+\"_tcb\",'rb') as f:\n",
    "            params = pickle.load(f)\n",
    "        preds = tcrgp.predict(testfile_path+i+'_Validation.csv',params)\n",
    "        data = pd.read_csv(testfile_path+i+'_Validation.csv')\n",
    "        probability = data[['epitope', 'cdr3b', 'Affinity']]\n",
    "        probability = probability.rename(columns={'Affinity': 'y_true'})\n",
    "        probability['y_prob'] = preds\n",
    "        probability['y_pred'] = probability['y_prob'].apply(lambda x: 1 if x >= 0.5 else 0)\n",
    "        probability['Epitope'] = probability['epitope'].str.replace('none', i)\n",
    "        all_results = all_results.append(probability)\n",
    "    all_results.to_csv(result_path+'probability.csv', index=False)"
   ]
  },
  {
   "cell_type": "markdown",
   "id": "7458cebe",
   "metadata": {},
   "source": [
    "When using the original model for prediction, it should be ensured that all predicted epitopes are present in the original model."
   ]
  },
  {
   "cell_type": "code",
   "execution_count": null,
   "id": "c225333e",
   "metadata": {},
   "outputs": [],
   "source": [
    "index_path=\"../data/test.csv\"\n",
    "testfile_path=\"../data/TCRGP_test\"\n",
    "modelfile_path=\"../Original_model/model_vdj_\"\n",
    "result_path=\"../result_path/Retraining_model_prediction\"\n",
    "Original_model_prediction(index_path,testfile_path,modelfile_path,result_path)"
   ]
  },
  {
   "cell_type": "code",
   "execution_count": null,
   "id": "1b8508d2",
   "metadata": {},
   "outputs": [],
   "source": []
  },
  {
   "cell_type": "markdown",
   "id": "b51f4a0c",
   "metadata": {},
   "source": [
    "# 2.Model retraining"
   ]
  },
  {
   "cell_type": "code",
   "execution_count": 7,
   "id": "355540aa",
   "metadata": {},
   "outputs": [],
   "source": [
    "import pandas as pd\n",
    "import pickle\n",
    "import tcrgp\n",
    "\n",
    "def Model_retraining(index_path,trainfile_path, testfile_path,save_model_path,esult_path):\n",
    "    subsmat = tcrgp.subsmatFromAA2('HENS920102')\n",
    "    pc_blo = tcrgp.get_pcs(subsmat, d=21) \n",
    "    index = pd.read_csv(index_path)\n",
    "    epitope = pd.unique(index['Epitope'])\n",
    "    all_results = pd.DataFrame()   \n",
    "    for i in epitope:\n",
    "        auc, params = tcrgp.train_classifier(trainfile_path + i+'.csv' , 'human', i, pc_blo,\n",
    "                                                  cdr_types=[[], ['cdr3']], m_iters=20, lr=0.005, nZ=0, mbs=0, lmax3=18,\n",
    "                                                  va=None, vb=None, cdr3a=None, cdr3b='cdr3b', epis='epitope')\n",
    "        with open(save_model_path + i, 'wb') as f:\n",
    "            pickle.dump(params, f)\n",
    "        preds = tcrgp.predict(testfile_path + i+'.csv' , params)\n",
    "        data = pd.read_csv(testfile_path + i+'.csv')\n",
    "        probability = data[['epitope', 'cdr3b', 'Affinity']]\n",
    "        probability = probability.rename(columns={'Affinity': 'y_true'})\n",
    "        probability['y_prob'] = preds\n",
    "        probability['y_pred'] = probability['y_prob'].apply(lambda x: 1 if x >= 0.5 else 0)\n",
    "        probability['epitope'] = probability['epitope'].str.replace('none', i)\n",
    "        all_results = all_results.append(probability)\n",
    "    all_results.to_csv(result_path+'probability.csv', index=False)"
   ]
  },
  {
   "cell_type": "code",
   "execution_count": 8,
   "id": "83e11d3a",
   "metadata": {},
   "outputs": [],
   "source": [
    "trainfile_path =\"../data/train.csv\"\n",
    "resultpath=\"../data/TCRGP_train\"\n",
    "fix(trainfile_path,resultpath)"
   ]
  },
  {
   "cell_type": "markdown",
   "id": "363b012b",
   "metadata": {},
   "source": [
    "index_path refers to the path of the original, unmodified training dataset,\n",
    "while trainfile_path refers to the path of the dataset modified according to this model"
   ]
  },
  {
   "cell_type": "code",
   "execution_count": null,
   "id": "2f18c71e",
   "metadata": {},
   "outputs": [],
   "source": [
    "index_path=\"../data/train.csv\"\n",
    "trainfile_path =\"../data/TCRGP_train\"\n",
    "testfile_path=\"../data/TCRGP_test\"\n",
    "save_modle_path=\"../Retraining_model/Retraining_model\"\n",
    "result_path=\"../result_path/Retraining_model_prediction\"\n",
    "Model_retraining(index_path,trainfile_path,testfile_path,save_modle_path,result_path) "
   ]
  },
  {
   "cell_type": "code",
   "execution_count": null,
   "id": "35459980",
   "metadata": {},
   "outputs": [],
   "source": []
  },
  {
   "cell_type": "code",
   "execution_count": null,
   "id": "b688bb19",
   "metadata": {},
   "outputs": [],
   "source": []
  },
  {
   "cell_type": "markdown",
   "id": "a9761319",
   "metadata": {},
   "source": [
    "# 3.Retraining_model_prediction"
   ]
  },
  {
   "cell_type": "code",
   "execution_count": 5,
   "id": "9756d122",
   "metadata": {},
   "outputs": [],
   "source": [
    "def Retraining_model_prediction(index_path,testfile_path,modelfile_path,result_path):\n",
    "    index = pd.read_csv(index_path)\n",
    "    epitope=pd.unique(index['Epitope'])\n",
    "    all_results = pd.DataFrame()   \n",
    "    for i in epitope:\n",
    "        with open(modelfile_path+i,'rb') as f:\n",
    "            params = pickle.load(f)\n",
    "        preds = tcrgp.predict(testfile_path+i+'.csv',params)\n",
    "        data = pd.read_csv(testfile_path+i+'.csv')\n",
    "        probability = data[['epitope', 'cdr3b', 'Affinity']]\n",
    "        probability = probability.rename(columns={'Affinity': 'y_true'})\n",
    "        probability['y_prob'] = preds\n",
    "        probability['y_pred'] = probability['y_prob'].apply(lambda x: 1 if x >= 0.5 else 0)\n",
    "        probability['Epitope'] = probability['epitope'].str.replace('none', i)\n",
    "        all_results = all_results.append(probability)\n",
    "    all_results.to_csv(result_path+'probability.csv', index=False)"
   ]
  },
  {
   "cell_type": "code",
   "execution_count": null,
   "id": "4ece624d",
   "metadata": {},
   "outputs": [],
   "source": [
    "testfile_path =\"../data/Validation.csv\"\n",
    "resultpath=\"../data/TCRGP_Validation\"\n",
    "fix(testfile_path,resultpath)"
   ]
  },
  {
   "cell_type": "code",
   "execution_count": null,
   "id": "d3c4f15d",
   "metadata": {},
   "outputs": [],
   "source": [
    "index_path=\"../data/no_fix_Validation.csv\"\n",
    "testfile_path=\"../data/TCRGP_Validation\"\n",
    "modelfile_path=\"../Retraining_model/Retraining_model\"\n",
    "result_path=\"../result_path/Retraining_model_prediction\"\n",
    "Retraining_model_prediction(index_path,testfile_path,modelfile_path,result_path)\n"
   ]
  },
  {
   "cell_type": "code",
   "execution_count": null,
   "id": "a41a4c8a",
   "metadata": {},
   "outputs": [],
   "source": []
  }
 ],
 "metadata": {
  "kernelspec": {
   "display_name": "TCRGP",
   "language": "python",
   "name": "tcrgp3.6"
  },
  "language_info": {
   "codemirror_mode": {
    "name": "ipython",
    "version": 3
   },
   "file_extension": ".py",
   "mimetype": "text/x-python",
   "name": "python",
   "nbconvert_exporter": "python",
   "pygments_lexer": "ipython3",
   "version": "3.6.15"
  }
 },
 "nbformat": 4,
 "nbformat_minor": 5
}
