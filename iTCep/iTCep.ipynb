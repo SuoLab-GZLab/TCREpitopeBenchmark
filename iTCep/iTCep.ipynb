{
 "cells": [
  {
   "cell_type": "markdown",
   "id": "edf5f971-8c55-44dd-b0d8-1d44d808fe9f",
   "metadata": {},
   "source": [
    "# 1.Original model prediction"
   ]
  },
  {
   "cell_type": "code",
   "execution_count": 3,
   "id": "71ca79da-60ae-4a2a-97af-8f5fb6f6c2e1",
   "metadata": {},
   "outputs": [],
   "source": [
    "import sys\n",
    "import argparse\n",
    "import pandas as pd\n",
    "from model_prediction import ModelPrediction as predict\n",
    "from tcr_utils import TCRUtils as utils\n",
    "from pathlib import Path\n",
    "\n",
    "def fix(data_ori):\n",
    "    data=pd.read_csv(data_ori)\n",
    "    #'CDR3.beta', 'antigen_epitope','mhc.a','label','negative.source','license'\n",
    "    data.rename(columns={'CDR3B':'CDR3','Epitope':'peptide','Affinity':'label'},inplace=True)\n",
    "    df=data[['CDR3', 'peptide','label']]\n",
    "   \n",
    "    return df\n",
    "def original_model_predict(testfile_path,modelfile_path,result_path):\n",
    "    df_pre=fix(testfile_path)\n",
    "    df_pre=utils.data_processing(df_pre)\n",
    "    predict_df = predict.model_prediction(df_pre,modelfile_path)\n",
    "    predict_df.to_csv(result_path+\"probability.csv\", index=False)"
   ]
  },
  {
   "cell_type": "code",
   "execution_count": null,
   "id": "f110e629-a8b2-46c9-8fd8-27c3efa87ef5",
   "metadata": {},
   "outputs": [],
   "source": [
    "testfile_path=\"../data/test.csv\"\n",
    "modelfile_path=\"../Original_model/iTCep.h5\"\n",
    "result_path=\"../result_path/Original_model_prediction\"\n",
    "Original_model_prediction(testfile_path,modelfile_path,result_path)\n"
   ]
  },
  {
   "cell_type": "code",
   "execution_count": null,
   "id": "3f65a36d-0a69-486b-8d11-6206158d61fb",
   "metadata": {},
   "outputs": [],
   "source": []
  }
 ],
 "metadata": {
  "kernelspec": {
   "display_name": "TCREpi(itcep)",
   "language": "python",
   "name": "itcep"
  },
  "language_info": {
   "codemirror_mode": {
    "name": "ipython",
    "version": 3
   },
   "file_extension": ".py",
   "mimetype": "text/x-python",
   "name": "python",
   "nbconvert_exporter": "python",
   "pygments_lexer": "ipython3",
   "version": "3.9.20"
  }
 },
 "nbformat": 4,
 "nbformat_minor": 5
}
